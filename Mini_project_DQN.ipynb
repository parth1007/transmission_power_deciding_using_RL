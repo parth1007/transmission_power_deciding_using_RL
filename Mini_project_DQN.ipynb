{
  "nbformat": 4,
  "nbformat_minor": 0,
  "metadata": {
    "colab": {
      "provenance": [],
      "gpuType": "T4"
    },
    "kernelspec": {
      "name": "python3",
      "display_name": "Python 3"
    },
    "language_info": {
      "name": "python"
    },
    "gpuClass": "standard"
  },
  "cells": [
    {
      "cell_type": "code",
      "execution_count": null,
      "metadata": {
        "id": "v7ZrVIdeucmX"
      },
      "outputs": [],
      "source": [
        "import os\n",
        "import gym\n",
        "import pylab\n",
        "import random\n",
        "import numpy as np\n",
        "import numpy as np\n",
        "import pandas as pd\n",
        "from time import time\n",
        "from tqdm import tqdm\n",
        "import tensorflow as tf\n",
        "from collections import deque\n",
        "import matplotlib.pyplot as plt\n",
        "from keras.layers import Input, Dense\n",
        "from keras.models import Model, load_model\n",
        "from keras.optimizers import Adam, RMSprop"
      ]
    },
    {
      "cell_type": "code",
      "source": [
        "num_states = 10\n",
        "prob_next = 0.3\n",
        "prob_prev = 0.3\n",
        "prob_self = 1- (prob_next + prob_prev)\n",
        "prob_edge = 0.2"
      ],
      "metadata": {
        "id": "G_SjaoQna5OD",
        "colab": {
          "base_uri": "https://localhost:8080/"
        },
        "outputId": "55464368-63b1-4c33-ce24-2e746bc30a20"
      },
      "execution_count": null,
      "outputs": [
        {
          "output_type": "stream",
          "name": "stderr",
          "text": [
            "/usr/local/lib/python3.10/dist-packages/ipykernel/ipkernel.py:283: DeprecationWarning: `should_run_async` will not call `transform_cell` automatically in the future. Please pass the result to `transformed_cell` argument and any exception that happen during thetransform in `preprocessing_exc_tuple` in IPython 7.17 and above.\n",
            "  and should_run_async(code)\n"
          ]
        }
      ]
    },
    {
      "cell_type": "code",
      "source": [
        "prob_matrix = np.zeros((num_states,3))\n",
        "\n",
        "for i in range(num_states):\n",
        "  if i == 0:\n",
        "    prob_matrix[i][0] = 0\n",
        "    prob_matrix[i][1] = prob_edge\n",
        "    prob_matrix[i][2] = 1-prob_edge\n",
        "\n",
        "  elif i == num_states-1:\n",
        "    prob_matrix[i][0] = 1-prob_edge\n",
        "    prob_matrix[i][1] = prob_edge\n",
        "    prob_matrix[i][2] = 0\n",
        "\n",
        "  else:\n",
        "    prob_matrix[i][0] = prob_prev\n",
        "    prob_matrix[i][1] = prob_self\n",
        "    prob_matrix[i][2] = prob_next"
      ],
      "metadata": {
        "id": "RAWhA1ooNGSH"
      },
      "execution_count": null,
      "outputs": []
    },
    {
      "cell_type": "code",
      "source": [
        "prob_matrix"
      ],
      "metadata": {
        "colab": {
          "base_uri": "https://localhost:8080/"
        },
        "id": "ClMOxraeyDHV",
        "outputId": "9428165d-c767-4a6b-e2cd-1d37456186eb"
      },
      "execution_count": null,
      "outputs": [
        {
          "output_type": "execute_result",
          "data": {
            "text/plain": [
              "array([[0. , 0.2, 0.8],\n",
              "       [0.3, 0.4, 0.3],\n",
              "       [0.3, 0.4, 0.3],\n",
              "       [0.3, 0.4, 0.3],\n",
              "       [0.3, 0.4, 0.3],\n",
              "       [0.3, 0.4, 0.3],\n",
              "       [0.3, 0.4, 0.3],\n",
              "       [0.3, 0.4, 0.3],\n",
              "       [0.3, 0.4, 0.3],\n",
              "       [0.8, 0.2, 0. ]])"
            ]
          },
          "metadata": {},
          "execution_count": 4
        }
      ]
    },
    {
      "cell_type": "code",
      "source": [
        "Es=20\n",
        "power_max=100\n",
        "battery_max = 100\n",
        "gain_max = 1.0\n",
        "battery_factor = 0.3\n",
        "discount_factor = 0.95"
      ],
      "metadata": {
        "id": "Dkh9dNYqfyUj"
      },
      "execution_count": null,
      "outputs": []
    },
    {
      "cell_type": "markdown",
      "source": [
        "### Agent"
      ],
      "metadata": {
        "id": "fZNn0CU_YkXG"
      }
    },
    {
      "cell_type": "code",
      "source": [
        "class Agent(): # actions of agent depends on policy, here we compute what happens after action\n",
        "  def __init__(self):\n",
        "    self.noise = 1.0\n",
        "    self.gain_factor = 1 # power_max / num_states\n",
        "    self.battery_prob = 0.5 # battery renew prob\n",
        "\n",
        "  def channel_next_state(self,i):  # channel transition and it is independent of action\n",
        "\n",
        "    prob = np.random.rand()\n",
        "\n",
        "    if i == 1:\n",
        "      # state 1,\n",
        "      if prob > prob_edge: # retain same state, that is 1\n",
        "        return 0\n",
        "      else:\n",
        "        return 1 # go to next state\n",
        "\n",
        "    elif i == num_states: # next state from last state\n",
        "      if prob > prob_edge:   # retain same state, that is last state\n",
        "        return 0\n",
        "      else:\n",
        "        return -1 # go one state back\n",
        "\n",
        "    else:\n",
        "      if prob < prob_prev: # go to previous state\n",
        "        return -1\n",
        "      elif prob < prob_prev + prob_self: # retain the same state\n",
        "        return 0\n",
        "      else: # go to next state\n",
        "        return 1\n",
        "\n",
        "  def state_battery(self,battery,power_transmit): # battery remains and harvesting\n",
        "  # transition of state: battery level\n",
        "  # inputs are battery level and action tx power\n",
        "    rand = np.random.rand()\n",
        "    is_harvested = -1 # random initialization\n",
        "\n",
        "    battery_spent = battery_factor * power_transmit # this is known if tx power is fixed\n",
        "\n",
        "    if rand < self.battery_prob: # this is battery harvesting condition\n",
        "      new_battery = np.minimum(power_max,battery + Es - battery_spent)\n",
        "      new_battery = max(0,new_battery)\n",
        "      is_harvested = 1\n",
        "\n",
        "    else: # no battery harvesting\n",
        "      new_battery = battery - battery_spent\n",
        "      new_battery = max(0,new_battery)\n",
        "      is_harvested = 0\n",
        "\n",
        "    return new_battery, is_harvested\n",
        "\n",
        "  def next_state_reward(self,init_state, transmit_energy):\n",
        "\n",
        "    # initial state and action (tx power)\n",
        "    transition = self.channel_next_state(init_state)  # transition ={-1,0,1}\n",
        "    new_state = init_state + transition # new channel state after transition\n",
        "\n",
        "    init_gain = (init_state ) * self.gain_factor # initial state => current state of channel\n",
        "    new_gain = (new_state) * self.gain_factor # we dont need this\n",
        "\n",
        "    snr = init_gain * transmit_energy / self.noise # snr based on current channel state\n",
        "\n",
        "    reward = np.log(1 + snr) # this defines reward\n",
        "\n",
        "    return new_state, reward\n",
        "\n",
        "  def joint_state_reward_under_action(self,battery,power_transmit,init_state):\n",
        "\n",
        "    new_battery, _ = self.state_battery(battery, power_transmit) # new battery state\n",
        "    new_state, reward = self.next_state_reward(init_state, power_transmit) # new channel state and reward\n",
        "\n",
        "    return new_state, reward, new_battery\n",
        "\n",
        "\n",
        "agent = Agent()"
      ],
      "metadata": {
        "id": "LFQA2PBQMRud"
      },
      "execution_count": null,
      "outputs": []
    },
    {
      "cell_type": "code",
      "source": [
        "def get_discounted_rewards(rewards): # this function computes discounted cummulative reward\n",
        "  d_reward = []\n",
        "  d_reward.append(rewards[0])\n",
        "  for i in range(1,len(rewards)):\n",
        "    d_reward.append( pow(discount_factor,i) * rewards[i]  +  d_reward[i-1])\n",
        "\n",
        "  return d_reward"
      ],
      "metadata": {
        "id": "rSrpok77ctCd"
      },
      "execution_count": null,
      "outputs": []
    },
    {
      "cell_type": "code",
      "source": [],
      "metadata": {
        "id": "D11THtmhJj9V"
      },
      "execution_count": null,
      "outputs": []
    },
    {
      "cell_type": "markdown",
      "source": [
        "### Deep Q Networks"
      ],
      "metadata": {
        "id": "Q1Qy1iqqlM1O"
      }
    },
    {
      "cell_type": "code",
      "source": [
        "class Callback(tf.keras.callbacks.Callback):\n",
        "    SHOW_NUMBER = 10\n",
        "    counter = 0\n",
        "    epoch = 0\n",
        "    def on_epoch_begin(self, epoch, logs=None):\n",
        "        self.epoch = epoch\n",
        "\n",
        "    def on_train_batch_end(self, batch, logs=None):\n",
        "        if self.counter == self.SHOW_NUMBER or self.epoch == 1:\n",
        "            if self.epoch > 1:\n",
        "                self.counter = 0\n",
        "        self.counter += 1"
      ],
      "metadata": {
        "id": "wtFHhMd5Lzgk"
      },
      "execution_count": null,
      "outputs": []
    },
    {
      "cell_type": "code",
      "source": [],
      "metadata": {
        "id": "FfzYP9damU0P"
      },
      "execution_count": null,
      "outputs": []
    },
    {
      "cell_type": "code",
      "source": [
        "state_size = 2\n",
        "action_size = 1\n",
        "memory = deque(maxlen=5000)\n",
        "gamma = 0.95\n",
        "epsilon = 1.0\n",
        "epsilon_min = 0.1\n",
        "epsilon_decay = 0.999\n",
        "num_channels = 10\n",
        "battery_threshold = 30"
      ],
      "metadata": {
        "id": "cBbLeAt1lPk0"
      },
      "execution_count": null,
      "outputs": []
    },
    {
      "cell_type": "code",
      "source": [
        "def OurModel(input_shape, action_space):\n",
        "    X_input = Input(input_shape)\n",
        "    X = X_input\n",
        "\n",
        "    X = Dense(64, input_shape=input_shape, activation=\"relu\", kernel_initializer='he_uniform')(X)\n",
        "    X = Dense(16, activation=\"relu\", kernel_initializer='he_uniform')(X)\n",
        "    X = Dense(action_space, activation=\"relu\", kernel_initializer='he_uniform')(X)\n",
        "\n",
        "    model = Model(inputs = X_input, outputs = X)\n",
        "    model.compile(loss=\"mean_squared_error\", optimizer=Adam(learning_rate=0.003), metrics=[\"accuracy\"])\n",
        "\n",
        "    return model"
      ],
      "metadata": {
        "id": "7SZS7ND6U6fA"
      },
      "execution_count": null,
      "outputs": []
    },
    {
      "cell_type": "code",
      "source": [
        "def update_target_model():\n",
        "    target_model.set_weights(model.get_weights())"
      ],
      "metadata": {
        "id": "HGmQOMCwm9V_"
      },
      "execution_count": null,
      "outputs": []
    },
    {
      "cell_type": "code",
      "source": [
        "def blackbox_move(channel,battery, a):\n",
        "    prob_dist = prob_matrix[int(channel)]\n",
        "    channel_transition = np.random.choice((-1,0,1), p=prob_dist)\n",
        "    new_channel = channel + channel_transition\n",
        "\n",
        "    power_transmit = (a+1) * 10\n",
        "    if battery < battery_threshold:\n",
        "      reward = 0\n",
        "      power_transmit = 0\n",
        "\n",
        "    _, reward = agent.next_state_reward(new_channel+1, power_transmit)\n",
        "    new_battery,_ = agent.state_battery(battery,power_transmit)\n",
        "    new_battery = np.round(new_battery).astype(np.float32)\n",
        "\n",
        "    return new_channel,new_battery, reward"
      ],
      "metadata": {
        "id": "S20qsd5NOWOf"
      },
      "execution_count": null,
      "outputs": []
    },
    {
      "cell_type": "code",
      "source": [
        "def act( state):\n",
        "    if np.random.random() <= epsilon:\n",
        "        return np.round(np.random.rand()*100)\n",
        "    else:\n",
        "        return model.predict(state, callbacks=[Callback()], verbose=0)[0][0]\n",
        "\n",
        "def remember( channel,battery, action, reward, new_channel,new_battery):\n",
        "\n",
        "      memory.append((channel.astype(np.float32),\n",
        "                     battery.astype(np.float32),\n",
        "                     action.astype(np.float32),\n",
        "                     reward.astype(np.float32),\n",
        "                     new_channel.astype(np.float32),\n",
        "                     new_battery.astype(np.float32)))\n",
        "      if len(memory) > train_start:\n",
        "          global epsilon\n",
        "          if epsilon > epsilon_min:\n",
        "            epsilon *= epsilon_decay\n",
        "\n",
        "def replay():\n",
        "    if len(memory) < train_start:\n",
        "        return\n",
        "    minibatch = np.array(random.sample(memory, batch_size), dtype=np.float32)\n",
        "\n",
        "    state = np.asarray(minibatch[:,0:2]).astype(np.float32)\n",
        "    action = minibatch[:,2:3]\n",
        "    reward = minibatch[:,3:4]\n",
        "    next_state = np.asarray(minibatch[:,4:6]).astype(np.float32)\n",
        "\n",
        "    target = model.predict(state, callbacks=[Callback()], verbose=0)\n",
        "    target_next = target_model.predict(next_state, callbacks=[Callback()], verbose=0)\n",
        "\n",
        "    for i in range(len(minibatch)):\n",
        "        if i == len(minibatch) - 1:\n",
        "            target[i] = reward[i]\n",
        "        else:\n",
        "            target[i] = reward[i] + gamma * (target_next[i])\n",
        "\n",
        "    model.fit(state, target, batch_size=batch_size, callbacks=[Callback()], verbose=0)\n",
        "\n",
        "def run(epochs):\n",
        "\n",
        "    q_hist = []\n",
        "    for e in range(epochs):\n",
        "        channel = np.random.randint(num_channels)\n",
        "        battery = 100\n",
        "        state = [channel,battery]\n",
        "        state = np.reshape(state, [1, state_size])\n",
        "\n",
        "        for i in range(num_steps):\n",
        "            hist = []\n",
        "\n",
        "            action = act(state)\n",
        "            new_channel,new_battery, reward  = blackbox_move(state[0][0], state[0][1], action)\n",
        "            next_state = [new_channel,new_battery]\n",
        "            next_state = np.reshape(next_state, [1, state_size])\n",
        "\n",
        "            remember(state[0][0], state[0][1], action, reward, new_channel, new_battery)\n",
        "            state = next_state\n",
        "            if i % 50 == 0:\n",
        "              for check in checks:\n",
        "                qv = model.predict(check.reshape(1,-1), callbacks=[Callback()], verbose=0)\n",
        "                hist.append(qv[0][0])\n",
        "              update_target_model()\n",
        "              q_hist.append(hist)\n",
        "            replay()\n",
        "        print(\"episode: {}/{}, e: {:.2}\".format(e, epochs, epsilon))\n",
        "    return np.array(q_hist)"
      ],
      "metadata": {
        "id": "SXOc4Agimb1E"
      },
      "execution_count": null,
      "outputs": []
    },
    {
      "cell_type": "code",
      "source": [
        "checks = np.array([[9,80],[9,30],[7,100],[6,25],[3,85],[1,99],[2,90],[3,30]])\n",
        "model = OurModel(input_shape=(state_size,), action_space = action_size)\n",
        "target_model = OurModel(input_shape=(state_size,), action_space = action_size)"
      ],
      "metadata": {
        "id": "EvV9x7azWVQy"
      },
      "execution_count": null,
      "outputs": []
    },
    {
      "cell_type": "code",
      "source": [
        "batch_size = 100\n",
        "num_steps = 500\n",
        "train_start = 300\n",
        "epsilon = 1.0\n",
        "\n",
        "q_hist = run(4)"
      ],
      "metadata": {
        "colab": {
          "base_uri": "https://localhost:8080/"
        },
        "id": "WC6_T1m6WOuz",
        "outputId": "6871ab8f-85ec-4f54-aa9a-26d4eee226a6"
      },
      "execution_count": null,
      "outputs": [
        {
          "output_type": "stream",
          "name": "stdout",
          "text": [
            "episode: 0/4, e: 0.82\n",
            "episode: 1/4, e: 0.5\n",
            "episode: 2/4, e: 0.3\n",
            "episode: 3/4, e: 0.18\n"
          ]
        }
      ]
    },
    {
      "cell_type": "code",
      "source": [
        "for i in range(8):\n",
        "  plt.plot(q_hist[:,i],label=f\"{checks[i]}\")\n",
        "\n",
        "plt.legend()\n",
        "plt.show()"
      ],
      "metadata": {
        "colab": {
          "base_uri": "https://localhost:8080/",
          "height": 430
        },
        "id": "bNR6YZdNX-Ms",
        "outputId": "73c16756-50dd-4015-9a11-7bf1884b5eea"
      },
      "execution_count": null,
      "outputs": [
        {
          "output_type": "display_data",
          "data": {
            "text/plain": [
              "<Figure size 640x480 with 1 Axes>"
            ],
            "image/png": "[encoded data removed]"
          },
          "metadata": {}
        }
      ]
    }
  ]
}