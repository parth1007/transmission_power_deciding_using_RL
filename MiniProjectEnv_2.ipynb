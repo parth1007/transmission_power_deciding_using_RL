{
  "nbformat": 4,
  "nbformat_minor": 0,
  "metadata": {
    "colab": {
      "provenance": [],
      "collapsed_sections": [
        "Fc-4Kpxhxd7D"
      ]
    },
    "kernelspec": {
      "name": "python3",
      "display_name": "Python 3"
    },
    "language_info": {
      "name": "python"
    }
  },
  "cells": [
    {
      "cell_type": "code",
      "execution_count": null,
      "metadata": {
        "id": "v7ZrVIdeucmX"
      },
      "outputs": [],
      "source": [
        "import numpy as np\n",
        "import matplotlib.pyplot as plt"
      ]
    },
    {
      "cell_type": "code",
      "source": [
        "num_states = 10\n",
        "prob_next = 0.3\n",
        "prob_prev = 0.3\n",
        "prob_self = 1- (prob_next + prob_prev)\n",
        "prob_edge = 0.1"
      ],
      "metadata": {
        "id": "G_SjaoQna5OD"
      },
      "execution_count": null,
      "outputs": []
    },
    {
      "cell_type": "code",
      "source": [
        "prob_matrix = np.zeros((num_states,3))\n",
        "\n",
        "for i in range(num_states):\n",
        "  if i == 0:\n",
        "    prob_matrix[i][0] = 0\n",
        "    prob_matrix[i][1] = prob_edge\n",
        "    prob_matrix[i][2] = 1-prob_edge\n",
        "\n",
        "  elif i == num_states-1:\n",
        "    prob_matrix[i][0] = 1-prob_edge\n",
        "    prob_matrix[i][1] = prob_edge\n",
        "    prob_matrix[i][2] = 0\n",
        "\n",
        "  else:\n",
        "    prob_matrix[i][0] = prob_prev\n",
        "    prob_matrix[i][1] = prob_self\n",
        "    prob_matrix[i][2] = prob_next"
      ],
      "metadata": {
        "id": "RAWhA1ooNGSH"
      },
      "execution_count": null,
      "outputs": []
    },
    {
      "cell_type": "code",
      "source": [
        "Es=20\n",
        "power_max=100\n",
        "battery_max = 100\n",
        "gain_max = 1.0\n",
        "battery_factor = 0.3\n",
        "discount_factor = 0.99"
      ],
      "metadata": {
        "id": "Dkh9dNYqfyUj"
      },
      "execution_count": null,
      "outputs": []
    },
    {
      "cell_type": "markdown",
      "source": [
        "### Agent"
      ],
      "metadata": {
        "id": "fZNn0CU_YkXG"
      }
    },
    {
      "cell_type": "code",
      "source": [
        "class Agent(): # actions of agent depends on policy, here we compute what happens after action\n",
        "  def __init__(self):\n",
        "    self.noise = 1.0\n",
        "    self.gain_factor = 1 # power_max / num_states\n",
        "    self.battery_prob = 1 # battery renew prob\n",
        "\n",
        "  def channel_next_state(self,i):  # channel transition and it is independent of action\n",
        "\n",
        "    prob = np.random.rand()\n",
        "\n",
        "    if i == 1:\n",
        "      # state 1,\n",
        "      if prob > prob_edge: # retain same state, that is 1\n",
        "        return 0\n",
        "      else:\n",
        "        return 1 # go to next state\n",
        "\n",
        "    elif i == num_states: # next state from last state\n",
        "      if prob > prob_edge:   # retain same state, that is last state\n",
        "        return 0\n",
        "      else:\n",
        "        return -1 # go one state back\n",
        "\n",
        "    else:\n",
        "      if prob < prob_prev: # go to previous state\n",
        "        return -1\n",
        "      elif prob < prob_prev + prob_self: # retain the same state\n",
        "        return 0\n",
        "      else: # go to next state\n",
        "        return 1\n",
        "\n",
        "  def state_battery(self,battery,power_transmit): # battery remains and harvesting\n",
        "  # transition of state: battery level\n",
        "  # inputs are battery level and action tx power\n",
        "    rand = np.random.rand()\n",
        "    is_harvested = -1 # random initialization\n",
        "\n",
        "    battery_spent = battery_factor * power_transmit # this is known if tx power is fixed\n",
        "\n",
        "    if rand < self.battery_prob: # this is battery harvesting condition\n",
        "      new_battery = np.minimum(power_max,battery + Es - battery_spent)\n",
        "      is_harvested = 1\n",
        "    else: # no battery harvesting\n",
        "      new_battery = battery - battery_spent\n",
        "      is_harvested = 0\n",
        "\n",
        "    return new_battery, is_harvested\n",
        "\n",
        "  def next_state_reward(self,init_state, transmit_energy):\n",
        "    # initial state and action (tx power)\n",
        "    transition = self.channel_next_state(init_state)  # transition ={-1,0,1}\n",
        "    new_state = init_state + transition # new channel state after transition\n",
        "\n",
        "    init_gain = (init_state ) * self.gain_factor # initial state => current state of channel\n",
        "    new_gain = (new_state) * self.gain_factor # we dont need this\n",
        "\n",
        "    snr = init_gain * transmit_energy / self.noise # snr based on current channel state\n",
        "\n",
        "    reward = np.log(1 + snr) # this defines reward\n",
        "\n",
        "    return new_state, reward\n",
        "\n",
        "  def joint_state_reward_under_action(self,battery,power_transmit,init_state):\n",
        "\n",
        "    new_battery, _ = self.state_battery(battery, power_transmit) # new battery state\n",
        "    new_state, reward = self.next_state_reward(init_state, power_transmit) # new channel state and reward\n",
        "\n",
        "    return new_state, reward, new_battery\n",
        "\n",
        "\n",
        "agent = Agent()"
      ],
      "metadata": {
        "id": "LFQA2PBQMRud"
      },
      "execution_count": null,
      "outputs": []
    },
    {
      "cell_type": "code",
      "source": [
        "def get_discounted_rewards(rewards): # this function computes discounted cummulative reward\n",
        "  d_reward = []\n",
        "  d_reward.append(rewards[0])\n",
        "  for i in range(1,len(rewards)):\n",
        "    d_reward.append( pow(discount_factor,i) * rewards[i]  +  d_reward[i-1])\n",
        "\n",
        "  return d_reward"
      ],
      "metadata": {
        "id": "rSrpok77ctCd"
      },
      "execution_count": null,
      "outputs": []
    },
    {
      "cell_type": "markdown",
      "source": [
        "### Policy1"
      ],
      "metadata": {
        "id": "5wh1E-9Mjdtl"
      }
    },
    {
      "cell_type": "markdown",
      "source": [
        "Irrespective of gain, transmit max-possible power\n"
      ],
      "metadata": {
        "id": "UtNVLpMLmYlD"
      }
    },
    {
      "cell_type": "code",
      "source": [
        "class Policy1():\n",
        "  def __init__(self):\n",
        "    pass\n",
        "\n",
        "  def take_action(self,max_power,battery,init_state,battery_threshold):\n",
        "\n",
        "    if(battery < battery_threshold):\n",
        "       power_transmitted = 0\n",
        "    else:\n",
        "       power_transmitted = max_power\n",
        "\n",
        "    new_battery, is_harvested = agent.state_battery(battery, power_transmitted)\n",
        "\n",
        "    if(new_battery < 0):\n",
        "      power_transmitted = 0\n",
        "      new_battery = 0\n",
        "\n",
        "    new_state, reward = agent.next_state_reward(init_state, power_transmitted)\n",
        "\n",
        "    return new_state, reward, new_battery, is_harvested, power_transmitted"
      ],
      "metadata": {
        "id": "hY5y-tpMWGGF"
      },
      "execution_count": null,
      "outputs": []
    },
    {
      "cell_type": "code",
      "source": [
        "policy1 = Policy1()\n",
        "battery = battery_max\n",
        "time_steps = 1000\n",
        "max_power = 100\n",
        "init_state = 8\n",
        "battery_threshold = 30\n",
        "rewards = []\n",
        "\n",
        "\n",
        "for i in range(time_steps):\n",
        "\n",
        "  new_state, reward, new_battery,is_harvested,power_transmitted = policy1.take_action( max_power, battery, init_state,battery_threshold)\n",
        "  battery = new_battery\n",
        "  init_state = new_state\n",
        "\n",
        "  # print(f\"\\n------------Time Step {i}-------------\")\n",
        "  # print(f\"Energy Harvested {is_harvested}\")\n",
        "  # print(f\"power transmited {power_transmitted}\")\n",
        "  # print(f\"Remaining Battery {new_battery}\",)\n",
        "  # print(f\"Reward {reward}\")\n",
        "  # print(\"---------------------------------\\n\")\n",
        "\n",
        "  rewards.append(reward)\n",
        "\n",
        "discounted_rewards_1 = get_discounted_rewards(rewards)\n",
        "\n"
      ],
      "metadata": {
        "id": "Ti3MfloUhbQx"
      },
      "execution_count": null,
      "outputs": []
    },
    {
      "cell_type": "code",
      "source": [
        "print(f\"Outage observed in {rewards.count(0.0)} out of {time_steps} transmissions\")\n",
        "print(f\"Average reward: {np.array(rewards).mean()}\")\n",
        "print(f\"Total reward: {np.array(rewards).sum()}\")\n",
        "print(f\"Cummulative reward: {discounted_rewards_1[-1]}\")"
      ],
      "metadata": {
        "colab": {
          "base_uri": "https://localhost:8080/"
        },
        "id": "ru5naNui8Dk7",
        "outputId": "14383199-3508-4519-9692-0a17678f147d"
      },
      "execution_count": null,
      "outputs": [
        {
          "output_type": "stream",
          "name": "stdout",
          "text": [
            "Outage observed in 331 out of 1000 transmissions\n",
            "Average reward: 4.085199109972651\n",
            "Total reward: 4085.199109972651\n",
            "Cummulative reward: 446.15686215246325\n"
          ]
        }
      ]
    },
    {
      "cell_type": "markdown",
      "source": [
        "### Policy2"
      ],
      "metadata": {
        "id": "lreebtu8jgiD"
      }
    },
    {
      "cell_type": "markdown",
      "source": [
        "Power transmission depends on gain.\n",
        "\n",
        "More Gain : More power Transmitted"
      ],
      "metadata": {
        "id": "ZndQi0k_nkoQ"
      }
    },
    {
      "cell_type": "code",
      "source": [
        "class Policy2(): # higher channel gain, then transmit more power\n",
        "  def __init__(self): # initialization if required\n",
        "    pass\n",
        "\n",
        "  def take_action(self,max_power,battery,current_state,battery_threshold): # action of agent\n",
        "\n",
        "    if(battery < battery_threshold): # not to transmit if it is less than threshold\n",
        "       power_transmitted = 0\n",
        "    else:\n",
        "       power_transmitted = min(max_power, current_state * 10) # this is okay but need some more understanding\n",
        "\n",
        "    new_battery, is_harvested = agent.state_battery(battery, power_transmitted) # this is okay\n",
        "\n",
        "    if(new_battery < 0): # okay for now, we will come back\n",
        "      power_transmitted = 0\n",
        "      new_battery = 0\n",
        "\n",
        "    new_state, reward = agent.next_state_reward(current_state, power_transmitted)\n",
        "\n",
        "    return new_state, reward, new_battery, is_harvested, power_transmitted"
      ],
      "metadata": {
        "id": "NE1U1C45jiU8"
      },
      "execution_count": null,
      "outputs": []
    },
    {
      "cell_type": "code",
      "source": [
        "policy2 = Policy2() # running the policy 2 ( transmit power proportional to battery)\n",
        "battery = battery_max\n",
        "time_steps = 1000\n",
        "max_power = 100\n",
        "init_state = 8\n",
        "battery_threshold = 20\n",
        "\n",
        "rewards = []\n",
        "\n",
        "\n",
        "for i in range(time_steps):\n",
        "\n",
        "  new_state, reward, new_battery,is_harvested,power_transmitted = policy2.take_action( max_power, battery, init_state,battery_threshold)\n",
        "  battery = new_battery\n",
        "  init_state = new_state\n",
        "\n",
        "  # print(f\"\\n------------Time Step {i}-------------\")\n",
        "  # print(f\"Energy Harvested {is_harvested}\")\n",
        "  # print(f\"power transmited {power_transmitted}\")\n",
        "  # print(f\"Remaining Battery {new_battery}\",)\n",
        "  # print(f\"New channel state {new_state}\",)\n",
        "  # print(f\"Reward {reward}\")\n",
        "  # print(\"---------------------------------\\n\")\n",
        "\n",
        "  rewards.append(reward)\n",
        "\n",
        "discounted_rewards_2 = get_discounted_rewards(rewards)\n",
        "\n",
        "\n"
      ],
      "metadata": {
        "id": "CiKc-NQmnwQW"
      },
      "execution_count": null,
      "outputs": []
    },
    {
      "cell_type": "code",
      "source": [
        "print(f\"Outage observed in {rewards.count(0.0)} out of {time_steps} transmissions\")\n",
        "print(f\"Average reward: {np.array(rewards).mean()}\")\n",
        "print(f\"Total reward: {np.array(rewards).sum()}\")\n",
        "print(f\"Cummulative reward: {discounted_rewards_2[-1]}\")"
      ],
      "metadata": {
        "colab": {
          "base_uri": "https://localhost:8080/"
        },
        "id": "d4GL-M479gEo",
        "outputId": "e63adb3d-eaef-4a41-e51d-c2df0fe5e643"
      },
      "execution_count": null,
      "outputs": [
        {
          "output_type": "stream",
          "name": "stdout",
          "text": [
            "Outage observed in 53 out of 1000 transmissions\n",
            "Average reward: 4.612286825540652\n",
            "Total reward: 4612.286825540652\n",
            "Cummulative reward: 483.956674372151\n"
          ]
        }
      ]
    },
    {
      "cell_type": "code",
      "source": [
        "# for i in range(len(discounted_rewards)):\n",
        "#   print(round(rewards[i],2), round(rewards[i],2) * 0.8,  round(discounted_rewards[i],2))"
      ],
      "metadata": {
        "id": "hVAin2tOeJ17"
      },
      "execution_count": null,
      "outputs": []
    },
    {
      "cell_type": "code",
      "source": [
        "# import matplotlib.pyplot as plt\n",
        "# plt.plot(discounted_rewards_2)"
      ],
      "metadata": {
        "id": "kqs1uoy-WiYv"
      },
      "execution_count": null,
      "outputs": []
    },
    {
      "cell_type": "markdown",
      "source": [
        "### Policy 2.1"
      ],
      "metadata": {
        "id": "PhvloLE5hVz1"
      }
    },
    {
      "cell_type": "markdown",
      "source": [
        "Power transmission depends on gain.\n",
        "\n",
        "More Gain : More power Transmitted with minimum threshold"
      ],
      "metadata": {
        "id": "oHQ92gfZhVz2"
      }
    },
    {
      "cell_type": "code",
      "source": [
        "class Policy2_1(): # higher channel gain, then transmit more power\n",
        "  def __init__(self): # initialization if required\n",
        "    pass\n",
        "\n",
        "  def take_action(self,max_power,battery,current_state,battery_threshold): # action of agent\n",
        "\n",
        "    if(battery < battery_threshold): # not to transmit if it is less than threshold\n",
        "       power_transmitted = 0\n",
        "    else:\n",
        "      if current_state <= 3:\n",
        "        power_transmitted = 30\n",
        "      else:\n",
        "        power_transmitted = min(max_power, current_state * 10) # this is okay but need some more understanding\n",
        "\n",
        "    new_battery, is_harvested = agent.state_battery(battery, power_transmitted) # this is okay\n",
        "\n",
        "    if(new_battery < 0): # okay for now, we will come back\n",
        "      power_transmitted = 0\n",
        "      new_battery = 0\n",
        "\n",
        "    new_state, reward = agent.next_state_reward(current_state, power_transmitted)\n",
        "\n",
        "    return new_state, reward, new_battery, is_harvested, power_transmitted"
      ],
      "metadata": {
        "id": "VQ6oJGhPhVz2"
      },
      "execution_count": null,
      "outputs": []
    },
    {
      "cell_type": "code",
      "source": [
        "policy2_1= Policy2_1() # running the policy 2 ( transmit power proportional to battery)\n",
        "battery = battery_max\n",
        "time_steps = 1000\n",
        "max_power = 100\n",
        "init_state = 8\n",
        "battery_threshold = 20\n",
        "\n",
        "rewards = []\n",
        "\n",
        "\n",
        "for i in range(time_steps):\n",
        "\n",
        "  new_state, reward, new_battery,is_harvested,power_transmitted = policy2_1.take_action( max_power, battery, init_state,battery_threshold)\n",
        "  battery = new_battery\n",
        "  init_state = new_state\n",
        "\n",
        "  # print(f\"\\n------------Time Step {i}-------------\")\n",
        "  # print(f\"Energy Harvested {is_harvested}\")\n",
        "  # print(f\"power transmited {power_transmitted}\")\n",
        "  # print(f\"Remaining Battery {new_battery}\",)\n",
        "  # print(f\"New channel state {new_state}\",)\n",
        "  # print(f\"Reward {reward}\")\n",
        "  # print(\"---------------------------------\\n\")\n",
        "\n",
        "  rewards.append(reward)\n",
        "\n",
        "discounted_rewards_2_1 = get_discounted_rewards(rewards)\n",
        "\n",
        "\n"
      ],
      "metadata": {
        "id": "CdDeppUBhVz2"
      },
      "execution_count": null,
      "outputs": []
    },
    {
      "cell_type": "code",
      "source": [
        "print(f\"Outage observed in {rewards.count(0.0)} out of {time_steps} transmissions\")\n",
        "print(f\"Average reward: {np.array(rewards).mean()}\")\n",
        "print(f\"Total reward: {np.array(rewards).sum()}\")\n",
        "print(f\"Cummulative reward: {discounted_rewards_2_1[-1]}\")"
      ],
      "metadata": {
        "colab": {
          "base_uri": "https://localhost:8080/"
        },
        "outputId": "91d4fb4b-1c28-442a-82b2-210cb68106f0",
        "id": "-Xqtc66WhVz3"
      },
      "execution_count": null,
      "outputs": [
        {
          "output_type": "stream",
          "name": "stdout",
          "text": [
            "Outage observed in 134 out of 1000 transmissions\n",
            "Average reward: 4.8639676809450405\n",
            "Total reward: 4863.96768094504\n",
            "Cummulative reward: 495.52593441380026\n"
          ]
        }
      ]
    },
    {
      "cell_type": "code",
      "source": [
        "# for i in range(len(discounted_rewards)):\n",
        "#   print(round(rewards[i],2), round(rewards[i],2) * 0.8,  round(discounted_rewards[i],2))"
      ],
      "metadata": {
        "id": "hOGeNibYhVz3"
      },
      "execution_count": null,
      "outputs": []
    },
    {
      "cell_type": "code",
      "source": [
        "# import matplotlib.pyplot as plt\n",
        "# plt.plot(discounted_rewards_2)"
      ],
      "metadata": {
        "id": "JRyEsPWZhVz4"
      },
      "execution_count": null,
      "outputs": []
    },
    {
      "cell_type": "markdown",
      "source": [
        "### Policy3"
      ],
      "metadata": {
        "id": "fQWcezTqpX5V"
      }
    },
    {
      "cell_type": "markdown",
      "source": [
        "Power transmission depends on gain.\n",
        "\n",
        "More Gain : Less power Transmitted"
      ],
      "metadata": {
        "id": "Osw1WoWLpX5W"
      }
    },
    {
      "cell_type": "code",
      "source": [
        "class Policy3(): # power to transmit is inversely prop to channel gain\n",
        "  def __init__(self):\n",
        "    pass\n",
        "\n",
        "  def take_action(self,max_power,battery,init_state,battery_threshold):\n",
        "\n",
        "    if(battery < battery_threshold): #less than threshold power no transmission\n",
        "       power_transmitted = 0\n",
        "    else:\n",
        "       power_transmitted = min(max_power, (num_states - init_state + 1) * 10)\n",
        "\n",
        "    new_battery, is_harvested = agent.state_battery(battery, power_transmitted)\n",
        "\n",
        "    if(new_battery < 0):\n",
        "      power_transmitted = 0\n",
        "      new_battery = 0\n",
        "\n",
        "    new_state, reward = agent.next_state_reward(init_state, power_transmitted)\n",
        "\n",
        "    return new_state, reward, new_battery, is_harvested, power_transmitted"
      ],
      "metadata": {
        "id": "sgKjAeFRpX5W"
      },
      "execution_count": null,
      "outputs": []
    },
    {
      "cell_type": "code",
      "source": [
        "policy3 = Policy3()\n",
        "battery = battery_max\n",
        "time_steps = 1000\n",
        "max_power = 100\n",
        "init_state = 8\n",
        "battery_threshold = 30\n",
        "rewards = []\n",
        "\n",
        "\n",
        "\n",
        "for i in range(time_steps):\n",
        "\n",
        "  new_state, reward, new_battery, is_harvested, power_transmitted = policy3.take_action( max_power, battery, init_state, battery_threshold)\n",
        "  battery = new_battery\n",
        "  init_state = new_state\n",
        "\n",
        "  # print(f\"\\n------------Time Step {i}-------------\")\n",
        "  # print(f\"Energy Harvested {is_harvested}\")\n",
        "  # print(f\"power transmited {power_transmitted}\")\n",
        "  # print(f\"Remaining Battery {new_battery}\",)\n",
        "  # print(f\"Gain {new_state/10}\")\n",
        "  # print(f\"Reward {reward}\")\n",
        "  # print(\"---------------------------------\\n\")\n",
        "\n",
        "  if new_battery < 0:\n",
        "      print(\"You've used all your battery\")\n",
        "      break\n",
        "\n",
        "  rewards.append(reward)\n",
        "\n",
        "discounted_rewards_3 = get_discounted_rewards(rewards)\n"
      ],
      "metadata": {
        "id": "7XgmIFH9pX5W"
      },
      "execution_count": null,
      "outputs": []
    },
    {
      "cell_type": "code",
      "source": [
        "print(f\"Outage observed in {rewards.count(0.0)} out of {time_steps} transmissions\")\n",
        "print(f\"Average reward: {np.array(rewards).mean()}\")\n",
        "print(f\"Total reward: {np.array(rewards).sum()}\")\n",
        "print(f\"Cummulative reward: {discounted_rewards_3[-1]}\")"
      ],
      "metadata": {
        "colab": {
          "base_uri": "https://localhost:8080/"
        },
        "id": "tTok5dcI9hDR",
        "outputId": "9f9f32a5-18ac-4a29-82f2-c2e63356b809"
      },
      "execution_count": null,
      "outputs": [
        {
          "output_type": "stream",
          "name": "stdout",
          "text": [
            "Outage observed in 73 out of 1000 transmissions\n",
            "Average reward: 4.786959828287277\n",
            "Total reward: 4786.959828287278\n",
            "Cummulative reward: 496.5517162797167\n"
          ]
        }
      ]
    },
    {
      "cell_type": "code",
      "source": [
        "# discounted_rewards_1\n",
        "plt.plot(discounted_rewards_1,label=\"Policy1\")\n",
        "\n",
        "plt.plot(discounted_rewards_2,label=\"Policy2\")\n",
        "plt.plot(discounted_rewards_2_1,label=\"Policy2_1\")\n",
        "\n",
        "plt.plot(discounted_rewards_3,label=\"Policy3\")\n",
        "plt.legend()\n",
        "plt.show()"
      ],
      "metadata": {
        "colab": {
          "base_uri": "https://localhost:8080/",
          "height": 430
        },
        "id": "zcttzkf2j7ZI",
        "outputId": "de295139-76a3-4afc-e27f-6998d042b8d3"
      },
      "execution_count": null,
      "outputs": [
        {
          "output_type": "display_data",
          "data": {
            "text/plain": [
              "<Figure size 640x480 with 1 Axes>"
            ],
            "image/png": "[encoded data removed]"
          },
          "metadata": {}
        }
      ]
    },
    {
      "cell_type": "markdown",
      "source": [
        "### Checking for multiple battery threshold"
      ],
      "metadata": {
        "id": "Fc-4Kpxhxd7D"
      }
    },
    {
      "cell_type": "code",
      "source": [
        "# class Policy3():\n",
        "#   def __init__(self):\n",
        "#     pass\n",
        "\n",
        "#   def take_action(self,max_power,battery,init_state,battery_threshold):\n",
        "\n",
        "#     if(battery < battery_threshold):\n",
        "#        power_transmitted = 0\n",
        "#     else:\n",
        "#        power_transmitted = min(max_power, (num_states - init_state + 1) * 10)\n",
        "\n",
        "#     new_battery, is_harvested = agent.state_battery(battery, power_transmitted)\n",
        "\n",
        "#     if(new_battery < 0):\n",
        "#       power_transmitted = 0\n",
        "#       new_battery = 0\n",
        "\n",
        "#     new_state, reward = agent.next_state_reward(init_state, power_transmitted)\n",
        "\n",
        "#     return new_state, reward, new_battery, is_harvested, power_transmitted"
      ],
      "metadata": {
        "id": "aa3Cb7nCx5tv"
      },
      "execution_count": null,
      "outputs": []
    },
    {
      "cell_type": "code",
      "source": [
        "# policy3 = Policy3()\n",
        "\n",
        "# battery_threshold = [10,20,30,40,50,60,70,80,90]\n",
        "# time_steps = 10000\n",
        "\n",
        "\n",
        "# results = []\n",
        "\n",
        "# for th in battery_threshold:\n",
        "\n",
        "#   battery = battery_max\n",
        "#   max_power = 100\n",
        "#   init_state = 6\n",
        "#   rewards = []\n",
        "\n",
        "\n",
        "#   for i in range(time_steps):\n",
        "\n",
        "#     new_state, reward, new_battery, is_harvested, power_transmitted = policy3.take_action( max_power, battery, init_state,th)\n",
        "#     battery = new_battery\n",
        "#     init_state = new_state\n",
        "\n",
        "\n",
        "#     rewards.append(reward)\n",
        "\n",
        "#   results.append([rewards.count(0.0) / time_steps, np.array(rewards).mean(),np.array(rewards).sum()])\n",
        "\n",
        "\n",
        "# results = np.array(results)"
      ],
      "metadata": {
        "id": "PVAClaVMY2iq"
      },
      "execution_count": null,
      "outputs": []
    },
    {
      "cell_type": "code",
      "source": [],
      "metadata": {
        "id": "llIUGEF8Y2XH"
      },
      "execution_count": null,
      "outputs": []
    },
    {
      "cell_type": "code",
      "source": [
        "# policy3 = Policy3()\n",
        "\n",
        "# battery_threshold = [10,20,30,40,50,60,70,80,90]\n",
        "# time_steps = 10000\n",
        "\n",
        "\n",
        "# results = []\n",
        "\n",
        "# for th in battery_threshold:\n",
        "\n",
        "#   battery = battery_max\n",
        "#   max_power = 100\n",
        "#   init_state = 6\n",
        "#   rewards = []\n",
        "\n",
        "\n",
        "#   for i in range(time_steps):\n",
        "\n",
        "#     new_state, reward, new_battery, is_harvested, power_transmitted = policy3.take_action( max_power, battery, init_state,th)\n",
        "#     battery = new_battery\n",
        "#     init_state = new_state\n",
        "\n",
        "\n",
        "#     rewards.append(reward)\n",
        "\n",
        "#   results.append([rewards.count(0.0) / time_steps, np.array(rewards).mean(),np.array(rewards).sum()])\n",
        "\n",
        "\n",
        "# results = np.array(results)"
      ],
      "metadata": {
        "id": "uu1BS_0QxdK9"
      },
      "execution_count": null,
      "outputs": []
    },
    {
      "cell_type": "code",
      "source": [
        "# results"
      ],
      "metadata": {
        "id": "NLAIroLzxcvH"
      },
      "execution_count": null,
      "outputs": []
    },
    {
      "cell_type": "code",
      "source": [
        "# print(\"10% outage : \", results[:,0][0])\n",
        "# print(\"20% outage : \", results[:,0][1])\n",
        "# print(\"30% outage : \", results[:,0][2])\n",
        "# print(\"40% outage : \", results[:,0][3])\n",
        "# print(\"50% outage : \", results[:,0][4])\n",
        "# print(\"60% outage : \", results[:,0][5])\n",
        "# print(\"70% outage : \", results[:,0][6])\n",
        "# print(\"80% outage : \", results[:,0][7])\n",
        "# print(\"90% outage : \", results[:,0][8])"
      ],
      "metadata": {
        "id": "KnwDZHxCLq2J"
      },
      "execution_count": null,
      "outputs": []
    },
    {
      "cell_type": "code",
      "source": [
        "# battery = battery_max\n",
        "# max_power = 100\n",
        "# init_state = 6\n",
        "# rewards = []\n",
        "\n",
        "# for i in range(10000):\n",
        "\n",
        "\n",
        "#   new_state, reward, new_battery, is_harvested, power_transmitted = policy3.take_action( max_power, battery, init_state, 10)\n",
        "#   battery = new_battery\n",
        "#   init_state = new_state\n",
        "#   # print(f\"\\n------------Time Step {i}-------------\")\n",
        "#   # print(f\"Energy Harvested {is_harvested}\")\n",
        "#   # print(f\"power transmited {power_transmitted}\")\n",
        "#   # print(f\"Remaining Battery {new_battery}\",)\n",
        "#   # print(f\"Gain {new_state/10}\")\n",
        "#   # print(f\"Reward {reward}\")\n",
        "#   # print(\"---------------------------------\\n\")\n",
        "\n",
        "#   rewards.append(reward)\n",
        "\n",
        "\n",
        "# print(f\"Outage observed in {rewards.count(0.0)} out of {time_steps} transmissions\")\n",
        "# print(f\"Average reward: {np.array(rewards).mean()}\")\n",
        "# print(f\"Cumulative reward: {np.array(rewards).sum()}\")"
      ],
      "metadata": {
        "id": "SZYiRpLyOiaI"
      },
      "execution_count": null,
      "outputs": []
    }
  ]
}